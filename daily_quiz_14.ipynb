{
  "nbformat": 4,
  "nbformat_minor": 0,
  "metadata": {
    "colab": {
      "name": "daily_quiz_14",
      "provenance": [],
      "authorship_tag": "ABX9TyOt1MChDluSrGsYr3m7x+7N",
      "include_colab_link": true
    },
    "kernelspec": {
      "name": "python3",
      "display_name": "Python 3"
    },
    "language_info": {
      "name": "python"
    }
  },
  "cells": [
    {
      "cell_type": "markdown",
      "metadata": {
        "id": "view-in-github",
        "colab_type": "text"
      },
      "source": [
        "<a href=\"https://colab.research.google.com/github/NagisaSato/Unit_2/blob/main/daily_quiz_14.ipynb\" target=\"_parent\"><img src=\"https://colab.research.google.com/assets/colab-badge.svg\" alt=\"Open In Colab\"/></a>"
      ]
    },
    {
      "cell_type": "code",
      "execution_count": 2,
      "metadata": {
        "colab": {
          "base_uri": "https://localhost:8080/"
        },
        "id": "3_YOCle_PHTE",
        "outputId": "39b1c188-2414-46eb-9634-9438851c10b7"
      },
      "outputs": [
        {
          "output_type": "stream",
          "name": "stdout",
          "text": [
            "False\n"
          ]
        }
      ],
      "source": [
        "def quiz_14(a:int, b:int, c:int):\n",
        "  value = False\n",
        "  if abs(a-b)==abs(a-c) or abs(b-a)==abs(b-c) or abs(c-a)==abs(c-b):\n",
        "    value = True\n",
        "\n",
        "  return value\n",
        "\n",
        "print(quiz_14(5, 9, 6))"
      ]
    }
  ]
}