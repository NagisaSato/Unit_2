{
  "nbformat": 4,
  "nbformat_minor": 0,
  "metadata": {
    "colab": {
      "name": "daily_quiz_17",
      "provenance": [],
      "authorship_tag": "ABX9TyNJDjsTnazUw1o+lSXetN0l",
      "include_colab_link": true
    },
    "kernelspec": {
      "name": "python3",
      "display_name": "Python 3"
    },
    "language_info": {
      "name": "python"
    }
  },
  "cells": [
    {
      "cell_type": "markdown",
      "metadata": {
        "id": "view-in-github",
        "colab_type": "text"
      },
      "source": [
        "<a href=\"https://colab.research.google.com/github/NagisaSato/Unit_2/blob/main/daily_quiz_17.ipynb\" target=\"_parent\"><img src=\"https://colab.research.google.com/assets/colab-badge.svg\" alt=\"Open In Colab\"/></a>"
      ]
    },
    {
      "cell_type": "code",
      "execution_count": 1,
      "metadata": {
        "colab": {
          "base_uri": "https://localhost:8080/"
        },
        "id": "Vt5hD5PSQblw",
        "outputId": "6b0c2878-df8d-4a31-a151-d1f3a8340998"
      },
      "outputs": [
        {
          "output_type": "stream",
          "name": "stdout",
          "text": [
            "false\n"
          ]
        }
      ],
      "source": [
        "def quiz_17(a, b, c):\n",
        "  condition = 'false'\n",
        "  if a+b>c and a+c>b and b+c>a:\n",
        "    condition = 'true'\n",
        "  return condition\n",
        "\n",
        "print(quiz_17(5, 8, 3))"
      ]
    }
  ]
}