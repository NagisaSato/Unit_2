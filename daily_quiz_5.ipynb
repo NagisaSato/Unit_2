{
  "nbformat": 4,
  "nbformat_minor": 0,
  "metadata": {
    "colab": {
      "name": "daily_quiz_5",
      "provenance": [],
      "authorship_tag": "ABX9TyNK5RvZtPUEWS38PcPWsikH",
      "include_colab_link": true
    },
    "kernelspec": {
      "name": "python3",
      "display_name": "Python 3"
    },
    "language_info": {
      "name": "python"
    }
  },
  "cells": [
    {
      "cell_type": "markdown",
      "metadata": {
        "id": "view-in-github",
        "colab_type": "text"
      },
      "source": [
        "<a href=\"https://colab.research.google.com/github/NagisaSato/Unit_2/blob/main/daily_quiz_5.ipynb\" target=\"_parent\"><img src=\"https://colab.research.google.com/assets/colab-badge.svg\" alt=\"Open In Colab\"/></a>"
      ]
    },
    {
      "cell_type": "code",
      "metadata": {
        "colab": {
          "base_uri": "https://localhost:8080/"
        },
        "id": "MllCHmjyT2X0",
        "outputId": "8b6f2860-3663-43d5-a2b6-6b1e20dfe66f"
      },
      "source": [
        "def tableM(N):\n",
        "  for i in range (1,10):\n",
        "    print(f'{N}*{i}={N*i}')\n",
        "\n",
        "N = 2\n",
        "tableM(N)"
      ],
      "execution_count": 2,
      "outputs": [
        {
          "output_type": "stream",
          "name": "stdout",
          "text": [
            "2*1=2\n",
            "2*2=4\n",
            "2*3=6\n",
            "2*4=8\n",
            "2*5=10\n",
            "2*6=12\n",
            "2*7=14\n",
            "2*8=16\n",
            "2*9=18\n"
          ]
        }
      ]
    }
  ]
}