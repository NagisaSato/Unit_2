{
  "nbformat": 4,
  "nbformat_minor": 0,
  "metadata": {
    "colab": {
      "name": "daily_quiz_7",
      "provenance": [],
      "authorship_tag": "ABX9TyPdTT/8Ri3f1eh+592wbdOi",
      "include_colab_link": true
    },
    "kernelspec": {
      "name": "python3",
      "display_name": "Python 3"
    },
    "language_info": {
      "name": "python"
    }
  },
  "cells": [
    {
      "cell_type": "markdown",
      "metadata": {
        "id": "view-in-github",
        "colab_type": "text"
      },
      "source": [
        "<a href=\"https://colab.research.google.com/github/NagisaSato/Unit_2/blob/main/daily_quiz_7.ipynb\" target=\"_parent\"><img src=\"https://colab.research.google.com/assets/colab-badge.svg\" alt=\"Open In Colab\"/></a>"
      ]
    },
    {
      "cell_type": "code",
      "execution_count": 1,
      "metadata": {
        "colab": {
          "base_uri": "https://localhost:8080/"
        },
        "id": "scxXoom0JdB7",
        "outputId": "a8128013-3952-48a9-c623-16218f8b11ce"
      },
      "outputs": [
        {
          "output_type": "stream",
          "name": "stdout",
          "text": [
            "['0 -> a', '1 -> p', '2 -> p', '3 -> l', '4 -> e']\n"
          ]
        }
      ],
      "source": [
        "def quiz_7(msg:str):\n",
        "  list = []\n",
        "  count = 0\n",
        "  for letter in msg:\n",
        "    list.append(f'{count} -> {letter}')\n",
        "    count += 1\n",
        "  return list\n",
        "\n",
        "print(quiz_7('apple'))"
      ]
    }
  ]
}