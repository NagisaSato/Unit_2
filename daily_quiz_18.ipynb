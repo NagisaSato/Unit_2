{
  "nbformat": 4,
  "nbformat_minor": 0,
  "metadata": {
    "colab": {
      "name": "daily_quiz_18",
      "provenance": [],
      "authorship_tag": "ABX9TyPD++saynYBgLUR4iWiZUlm",
      "include_colab_link": true
    },
    "kernelspec": {
      "name": "python3",
      "display_name": "Python 3"
    },
    "language_info": {
      "name": "python"
    }
  },
  "cells": [
    {
      "cell_type": "markdown",
      "metadata": {
        "id": "view-in-github",
        "colab_type": "text"
      },
      "source": [
        "<a href=\"https://colab.research.google.com/github/NagisaSato/Unit_2/blob/main/daily_quiz_18.ipynb\" target=\"_parent\"><img src=\"https://colab.research.google.com/assets/colab-badge.svg\" alt=\"Open In Colab\"/></a>"
      ]
    },
    {
      "cell_type": "code",
      "execution_count": 1,
      "metadata": {
        "colab": {
          "base_uri": "https://localhost:8080/"
        },
        "id": "87DCb7keQ-9W",
        "outputId": "1f6ab068-9ef6-4e7d-e446-d8e04dd6d0d0"
      },
      "outputs": [
        {
          "output_type": "stream",
          "name": "stdout",
          "text": [
            "65\n"
          ]
        }
      ],
      "source": [
        "def quiz_18(array:list)->int:\n",
        "  sum = 0\n",
        "  add = 'yes'\n",
        "  for i in range (len(array)):\n",
        "    if array[i] == 6:\n",
        "        add = 'no'\n",
        "\n",
        "    if add in 'yes':\n",
        "      sum += array[i]\n",
        "\n",
        "    if add in \"no\":\n",
        "      if array[i] == 7:\n",
        "        add = 'yes'\n",
        "\n",
        "\n",
        "  return sum\n",
        "\n",
        "print(quiz_18([4,7,3,46,2,3]))"
      ]
    }
  ]
}