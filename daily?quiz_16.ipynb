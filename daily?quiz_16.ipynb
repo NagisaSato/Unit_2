{
  "nbformat": 4,
  "nbformat_minor": 0,
  "metadata": {
    "colab": {
      "name": "daily?quiz_16",
      "provenance": [],
      "authorship_tag": "ABX9TyONmkbhBzWQYm5ecR4o5iLf",
      "include_colab_link": true
    },
    "kernelspec": {
      "name": "python3",
      "display_name": "Python 3"
    },
    "language_info": {
      "name": "python"
    }
  },
  "cells": [
    {
      "cell_type": "markdown",
      "metadata": {
        "id": "view-in-github",
        "colab_type": "text"
      },
      "source": [
        "<a href=\"https://colab.research.google.com/github/NagisaSato/Unit_2/blob/main/daily%3Fquiz_16.ipynb\" target=\"_parent\"><img src=\"https://colab.research.google.com/assets/colab-badge.svg\" alt=\"Open In Colab\"/></a>"
      ]
    },
    {
      "cell_type": "code",
      "execution_count": 1,
      "metadata": {
        "colab": {
          "base_uri": "https://localhost:8080/"
        },
        "id": "XyBnuwD1P0Kr",
        "outputId": "3334ab5f-3fd3-4fe1-f496-78d5f9feff51"
      },
      "outputs": [
        {
          "output_type": "stream",
          "name": "stdout",
          "text": [
            "ipenpalp\n"
          ]
        }
      ],
      "source": [
        "def quiz_16(str:str):\n",
        "  final = ''\n",
        "  count = 1\n",
        "  for i in range(len(str)):\n",
        "    if i + count < len(str):\n",
        "      final += str[i+count]\n",
        "      count *= -1\n",
        "    else:\n",
        "      break\n",
        "  return final\n",
        "\n",
        "print(quiz_16('pineapple'))"
      ]
    }
  ]
}