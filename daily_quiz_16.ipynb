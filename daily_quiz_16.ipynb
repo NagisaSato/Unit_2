{
  "nbformat": 4,
  "nbformat_minor": 0,
  "metadata": {
    "colab": {
      "name": "daily_quiz_16",
      "provenance": [],
      "authorship_tag": "ABX9TyOOYAy5qLRzfohiKgQmhPHC",
      "include_colab_link": true
    },
    "kernelspec": {
      "name": "python3",
      "display_name": "Python 3"
    },
    "language_info": {
      "name": "python"
    }
  },
  "cells": [
    {
      "cell_type": "markdown",
      "metadata": {
        "id": "view-in-github",
        "colab_type": "text"
      },
      "source": [
        "<a href=\"https://colab.research.google.com/github/NagisaSato/Unit_2/blob/main/daily_quiz_16.ipynb\" target=\"_parent\"><img src=\"https://colab.research.google.com/assets/colab-badge.svg\" alt=\"Open In Colab\"/></a>"
      ]
    },
    {
      "cell_type": "code",
      "metadata": {
        "id": "4rmyndjxqEJZ"
      },
      "source": [
        "def swap(code):\n",
        "  k = 0\n",
        "  l = 1\n",
        "  s_out = \"\"\n",
        "  for i in range(len(code)/2):\n",
        "    s_out = code[k] + code[l]\n",
        "    k+=2\n",
        "    l+=2\n",
        "\n",
        "code = (\"1234\")\n",
        "\n",
        "\n",
        "\n"
      ],
      "execution_count": 4,
      "outputs": []
    }
  ]
}