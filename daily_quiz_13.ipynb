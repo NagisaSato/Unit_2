{
  "nbformat": 4,
  "nbformat_minor": 0,
  "metadata": {
    "colab": {
      "name": "daily_quiz_13",
      "provenance": [],
      "authorship_tag": "ABX9TyNOKt6oRqpKFxgZUKZuj3e9",
      "include_colab_link": true
    },
    "kernelspec": {
      "name": "python3",
      "display_name": "Python 3"
    },
    "language_info": {
      "name": "python"
    }
  },
  "cells": [
    {
      "cell_type": "markdown",
      "metadata": {
        "id": "view-in-github",
        "colab_type": "text"
      },
      "source": [
        "<a href=\"https://colab.research.google.com/github/NagisaSato/Unit_2/blob/main/daily_quiz_13.ipynb\" target=\"_parent\"><img src=\"https://colab.research.google.com/assets/colab-badge.svg\" alt=\"Open In Colab\"/></a>"
      ]
    },
    {
      "cell_type": "code",
      "execution_count": 2,
      "metadata": {
        "colab": {
          "base_uri": "https://localhost:8080/"
        },
        "id": "v1knm95dNoVI",
        "outputId": "ba534505-c145-41a0-8e80-03d9acd5389c"
      },
      "outputs": [
        {
          "output_type": "stream",
          "name": "stdout",
          "text": [
            "1400.0\n"
          ]
        }
      ],
      "source": [
        "def quiz_13(grocery:list, price:list):\n",
        "  food = ['apple', 'rice', 'grape']\n",
        "  liqueor = ['wine', 'beer', 'gin']\n",
        "  electronics = ['ipad', 'computer', 'earphone']\n",
        "\n",
        "  total = 0\n",
        "  for i in range(len(grocery)):\n",
        "    if grocery[i] in food:\n",
        "      total += price[i]* 1.1\n",
        "    elif grocery[i] in liqueor:\n",
        "      total+= price[i]*1.2\n",
        "    elif grocery[i] in electronics:\n",
        "      total+= price[i]*1.15\n",
        "    else:\n",
        "      print(f'{grocery[i]} is invalid')\n",
        "  return total\n",
        "\n",
        "print(quiz_13([\"apple\", \"gin\"], [400, 800]))"
      ]
    }
  ]
}