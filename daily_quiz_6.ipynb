{
  "nbformat": 4,
  "nbformat_minor": 0,
  "metadata": {
    "colab": {
      "name": "daily_quiz_6",
      "provenance": [],
      "authorship_tag": "ABX9TyN5MeMNSNuPK5KfFbzv4Cgt",
      "include_colab_link": true
    },
    "kernelspec": {
      "name": "python3",
      "display_name": "Python 3"
    },
    "language_info": {
      "name": "python"
    }
  },
  "cells": [
    {
      "cell_type": "markdown",
      "metadata": {
        "id": "view-in-github",
        "colab_type": "text"
      },
      "source": [
        "<a href=\"https://colab.research.google.com/github/NagisaSato/Unit_2/blob/main/daily_quiz_6.ipynb\" target=\"_parent\"><img src=\"https://colab.research.google.com/assets/colab-badge.svg\" alt=\"Open In Colab\"/></a>"
      ]
    },
    {
      "cell_type": "code",
      "execution_count": 3,
      "metadata": {
        "colab": {
          "base_uri": "https://localhost:8080/"
        },
        "id": "AsLpZ2nnIA_K",
        "outputId": "0ec8f0e4-7ec1-4aff-f89d-4773247922f6"
      },
      "outputs": [
        {
          "output_type": "stream",
          "name": "stdout",
          "text": [
            "false\n"
          ]
        }
      ],
      "source": [
        "def quiz(mix:str):\n",
        "  boolean = ''\n",
        "  if mix[1] == 'i' and mix[2]=='x':\n",
        "    boolean = 'true'\n",
        "  else:\n",
        "    boolean = 'false'\n",
        "  return boolean\n",
        "\n",
        "print(quiz('hjdgfsdg'))\n"
      ]
    }
  ]
}