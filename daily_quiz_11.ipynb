{
  "nbformat": 4,
  "nbformat_minor": 0,
  "metadata": {
    "colab": {
      "name": "daily_quiz_11",
      "provenance": [],
      "authorship_tag": "ABX9TyOqQ84SYedRXrkHWV2ZjT+X",
      "include_colab_link": true
    },
    "kernelspec": {
      "name": "python3",
      "display_name": "Python 3"
    },
    "language_info": {
      "name": "python"
    }
  },
  "cells": [
    {
      "cell_type": "markdown",
      "metadata": {
        "id": "view-in-github",
        "colab_type": "text"
      },
      "source": [
        "<a href=\"https://colab.research.google.com/github/NagisaSato/Unit_2/blob/main/daily_quiz_11.ipynb\" target=\"_parent\"><img src=\"https://colab.research.google.com/assets/colab-badge.svg\" alt=\"Open In Colab\"/></a>"
      ]
    },
    {
      "cell_type": "code",
      "execution_count": 1,
      "metadata": {
        "colab": {
          "base_uri": "https://localhost:8080/"
        },
        "id": "pWceq9hxMY_R",
        "outputId": "21eafc45-5089-43c0-b8f3-eab26db761b0"
      },
      "outputs": [
        {
          "output_type": "stream",
          "name": "stdout",
          "text": [
            "false\n"
          ]
        }
      ],
      "source": [
        "def quiz_11(n:list):\n",
        "  state = 'false'\n",
        "  if len(n)>= 1:\n",
        "    if n[0] == n[-1]:\n",
        "      state = 'true'\n",
        "\n",
        "  return state\n",
        "\n",
        "print(quiz_11([1, 2, 3]))\n",
        "\n",
        "  \n"
      ]
    }
  ]
}