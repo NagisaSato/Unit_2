{
  "nbformat": 4,
  "nbformat_minor": 0,
  "metadata": {
    "colab": {
      "name": "daily_quix_24",
      "provenance": [],
      "authorship_tag": "ABX9TyOXBVOraMC0IxkVgS12bDf4",
      "include_colab_link": true
    },
    "kernelspec": {
      "name": "python3",
      "display_name": "Python 3"
    },
    "language_info": {
      "name": "python"
    }
  },
  "cells": [
    {
      "cell_type": "markdown",
      "metadata": {
        "id": "view-in-github",
        "colab_type": "text"
      },
      "source": [
        "<a href=\"https://colab.research.google.com/github/NagisaSato/Unit_2/blob/main/daily_quix_24.ipynb\" target=\"_parent\"><img src=\"https://colab.research.google.com/assets/colab-badge.svg\" alt=\"Open In Colab\"/></a>"
      ]
    },
    {
      "cell_type": "code",
      "execution_count": 1,
      "metadata": {
        "colab": {
          "base_uri": "https://localhost:8080/"
        },
        "id": "9sQnrgVIU7kL",
        "outputId": "0a4b12b2-6f95-455e-fd4b-a9c450ea80de"
      },
      "outputs": [
        {
          "output_type": "stream",
          "name": "stdout",
          "text": [
            "d\n"
          ]
        }
      ],
      "source": [
        "def quiz(index:int):\n",
        "  letters = \"abcdefghijklmnopqrstuvwxyz\"\n",
        "  if index <25:\n",
        "    return letters[index]\n",
        "  else:\n",
        "    return \"no output\"\n",
        "\n",
        "print(quiz(3))\n",
        "\n"
      ]
    }
  ]
}