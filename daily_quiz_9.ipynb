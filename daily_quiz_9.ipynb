{
  "nbformat": 4,
  "nbformat_minor": 0,
  "metadata": {
    "colab": {
      "name": "daily_quiz_9",
      "provenance": [],
      "authorship_tag": "ABX9TyP54BXUmeFVZMOMs26nHQxT",
      "include_colab_link": true
    },
    "kernelspec": {
      "name": "python3",
      "display_name": "Python 3"
    },
    "language_info": {
      "name": "python"
    }
  },
  "cells": [
    {
      "cell_type": "markdown",
      "metadata": {
        "id": "view-in-github",
        "colab_type": "text"
      },
      "source": [
        "<a href=\"https://colab.research.google.com/github/NagisaSato/Unit_2/blob/main/daily_quiz_9.ipynb\" target=\"_parent\"><img src=\"https://colab.research.google.com/assets/colab-badge.svg\" alt=\"Open In Colab\"/></a>"
      ]
    },
    {
      "cell_type": "code",
      "execution_count": 2,
      "metadata": {
        "colab": {
          "base_uri": "https://localhost:8080/"
        },
        "id": "AHvaSIvKK9h6",
        "outputId": "65fb2923-1130-4617-99a1-5b97d8d27eb4"
      },
      "outputs": [
        {
          "output_type": "stream",
          "name": "stdout",
          "text": [
            "6\n"
          ]
        }
      ],
      "source": [
        "def quiz_9(n):\n",
        "  first = n[0] - 1\n",
        "  for i in n:\n",
        "    first += 1\n",
        "    if first != i:\n",
        "        return first\n",
        "\n",
        "print(quiz_9([4, 5, 7, 8, 9]))"
      ]
    }
  ]
}