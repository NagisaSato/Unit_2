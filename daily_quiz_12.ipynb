{
  "nbformat": 4,
  "nbformat_minor": 0,
  "metadata": {
    "colab": {
      "name": "daily_quiz_12",
      "provenance": [],
      "authorship_tag": "ABX9TyPrVBr+hz6B5SXFfOI6W9Rq",
      "include_colab_link": true
    },
    "kernelspec": {
      "name": "python3",
      "display_name": "Python 3"
    },
    "language_info": {
      "name": "python"
    }
  },
  "cells": [
    {
      "cell_type": "markdown",
      "metadata": {
        "id": "view-in-github",
        "colab_type": "text"
      },
      "source": [
        "<a href=\"https://colab.research.google.com/github/NagisaSato/Unit_2/blob/main/daily_quiz_12.ipynb\" target=\"_parent\"><img src=\"https://colab.research.google.com/assets/colab-badge.svg\" alt=\"Open In Colab\"/></a>"
      ]
    },
    {
      "cell_type": "code",
      "execution_count": 1,
      "metadata": {
        "colab": {
          "base_uri": "https://localhost:8080/"
        },
        "id": "nuY3AQZgM98C",
        "outputId": "ec6f0b65-89c6-44bb-cd98-db643c60f6ec"
      },
      "outputs": [
        {
          "output_type": "stream",
          "name": "stdout",
          "text": [
            "4.25\n"
          ]
        }
      ],
      "source": [
        "def quiz_12(n):\n",
        "  avglen = 0\n",
        "  for i in n:\n",
        "    avglen += len(i)\n",
        "  finalavg = avglen/len(n)\n",
        "  return finalavg\n",
        "\n",
        "print(quiz_12([\"fish\", \"apple\", \"car\", \"trash\"]))"
      ]
    }
  ]
}