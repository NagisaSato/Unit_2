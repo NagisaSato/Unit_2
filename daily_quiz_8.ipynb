{
  "nbformat": 4,
  "nbformat_minor": 0,
  "metadata": {
    "colab": {
      "name": "daily_quiz_8",
      "provenance": [],
      "authorship_tag": "ABX9TyOBuNwChHnMV8czYKZU+7fc",
      "include_colab_link": true
    },
    "kernelspec": {
      "name": "python3",
      "display_name": "Python 3"
    },
    "language_info": {
      "name": "python"
    }
  },
  "cells": [
    {
      "cell_type": "markdown",
      "metadata": {
        "id": "view-in-github",
        "colab_type": "text"
      },
      "source": [
        "<a href=\"https://colab.research.google.com/github/NagisaSato/Unit_2/blob/main/daily_quiz_8.ipynb\" target=\"_parent\"><img src=\"https://colab.research.google.com/assets/colab-badge.svg\" alt=\"Open In Colab\"/></a>"
      ]
    },
    {
      "cell_type": "code",
      "execution_count": 1,
      "metadata": {
        "colab": {
          "base_uri": "https://localhost:8080/"
        },
        "id": "eir-EiDbKVs8",
        "outputId": "9d2009dc-e760-4e9b-bf4a-f1deb03b6a5d"
      },
      "outputs": [
        {
          "output_type": "stream",
          "name": "stdout",
          "text": [
            "max absolute is 6\n"
          ]
        }
      ],
      "source": [
        "def quiz_8(list):\n",
        "  largest = 0\n",
        "  for i in list:\n",
        "    if abs(i) > largest:\n",
        "      largest = abs(i)\n",
        "  return f\"max absolute is {largest}\"\n",
        "\n",
        "print(quiz_8([5, 2, -6]))\n"
      ]
    }
  ]
}