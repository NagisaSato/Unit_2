{
  "nbformat": 4,
  "nbformat_minor": 0,
  "metadata": {
    "colab": {
      "name": "ux_1.md",
      "provenance": [],
      "authorship_tag": "ABX9TyOyg3Gfyu4asOJ42bFAJVHX",
      "include_colab_link": true
    },
    "kernelspec": {
      "name": "python3",
      "display_name": "Python 3"
    },
    "language_info": {
      "name": "python"
    }
  },
  "cells": [
    {
      "cell_type": "markdown",
      "metadata": {
        "id": "view-in-github",
        "colab_type": "text"
      },
      "source": [
        "<a href=\"https://colab.research.google.com/github/NagisaSato/Unit_2/blob/main/ux_1_md.ipynb\" target=\"_parent\"><img src=\"https://colab.research.google.com/assets/colab-badge.svg\" alt=\"Open In Colab\"/></a>"
      ]
    },
    {
      "cell_type": "markdown",
      "source": [
        "Create a program that shows the definition of the terms usability, usefulness and desirability based on the user’s input.\n",
        "\n",
        "Examples\n",
        "UX_terms(“usability”) → “Usability is … ”\n"
      ],
      "metadata": {
        "id": "90pv_n-9n8Tn"
      }
    },
    {
      "cell_type": "code",
      "execution_count": 29,
      "metadata": {
        "colab": {
          "base_uri": "https://localhost:8080/"
        },
        "id": "ZwfFavtbn2_t",
        "outputId": "d4454b4b-da0b-48a8-a46f-5ea07e7872a2"
      },
      "outputs": [
        {
          "output_type": "stream",
          "name": "stdout",
          "text": [
            "usability -> How easily a user can interact with a product or website, and how easy it is for users to use and be proficient in utilizing a product or website.\n",
            "\n",
            "usefulness -> how much it can meet the users needs and goals, and is anything that get the user close to accomplishing a task.\n",
            "\n",
            "desirability -> things that compel users to desire, or want to utilize a product or website.\n",
            "\n",
            "unable to define term.\n"
          ]
        }
      ],
      "source": [
        "#terms\n",
        "usability = \"usability -> How easily a user can interact with a product or website, and how easy it is for users to use and be proficient in utilizing a product or website.\"\n",
        "usefulness = \"usefulness -> how much it can meet the users needs and goals, and is anything that get the user close to accomplishing a task.\"\n",
        "desirability = \"desirability -> things that compel users to desire, or want to utilize a product or website.\"\n",
        "\n",
        "def UX_terms(term):\n",
        "  if term == \"usability\":\n",
        "    defi = usability\n",
        "  else:\n",
        "    if term == \"usefulness\":\n",
        "      defi = usefulness\n",
        "    else:\n",
        "      if term == \"desirability\":\n",
        "        defi = desirability\n",
        "      else:\n",
        "        defi = \"unable to define term.\"\n",
        "  return defi \n",
        "\n",
        "    \n",
        "print(UX_terms(\"usability\"))\n",
        "print()\n",
        "print(UX_terms(\"usefulness\"))\n",
        "print()\n",
        "print(UX_terms(\"desirability\"))\n",
        "print()\n",
        "print(UX_terms(\"looks\"))\n"
      ]
    }
  ]
}